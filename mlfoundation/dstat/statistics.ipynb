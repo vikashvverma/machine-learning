{
 "cells": [
  {
   "cell_type": "markdown",
   "metadata": {},
   "source": [
    "# Statistics: The Science of Decisions Project"
   ]
  },
  {
   "cell_type": "markdown",
   "metadata": {},
   "source": [
    "**Question 1**: What is our independent variable? What is our dependent variable?"
   ]
  },
  {
   "cell_type": "markdown",
   "metadata": {},
   "source": [
    "**Answer**: **Word condtion** is our independent variable i.e. **congruent** or **incongruent **. **Time taken** to name the ink color is our dependent variable."
   ]
  },
  {
   "cell_type": "markdown",
   "metadata": {},
   "source": [
    "**Question 2**: What is an appropriate set of hypotheses for this task? What kind of statistical test do you expect to perform? Justify your choices."
   ]
  },
  {
   "cell_type": "markdown",
   "metadata": {},
   "source": [
    "**Answer**:\n",
    "\n",
    "**Hypothesis**:\n",
    "\n",
    "- H<sub>0</sub>: $\\mu_c = \\mu_i$ (average time taken for congruent word is equal to average time taken for incongruent word)\n",
    "- H<sub>a</sub>: $\\mu_c \\neq \\mu_i$ (average time taken for congruent word is not equal to average time taken for incongruent word)\n",
    "\n",
    "\n",
    "We can perform `t test` on data because only sample data are available.\n",
    "\n",
    "![population.gif](population.gif \"Population\")\n",
    "\n",
    "In `t test` we don't have any information available about population but we want to make inference about population based on sample data available. e.g.  We want to know the election outcome in India. We can't conduct a survey on whole population. So we conduct survey on some random people across demographics, religion, caste, sex and age. Now this data acts as a sample as we didn't conduct survey on whole population. Based on this we want to make inference about the whole population i.e. who is going to win.\n",
    "\n",
    "Here we have data from a stroop task conducted on some people and we are trying to make inference whether there is a difference between congruent means and incongruent means or not.\n",
    "\n",
    "- This is an example of dependent sample because same set of people same set of people go through congruent and incongruent words.\n",
    "- We can perform the above the hypothesis testing (null and alternate) on the sample available and either reject the null or fail to reject the null.\n",
    "\n",
    "\n",
    "- The hypothesis testing for the sample for this stroop task is perofrmed in answer to **Question 5**. As we can see the probablity for the t value is quite low which is statistically significant. Hence we can reject $H_0$.\n",
    "- We can make inference about population that It's highly unlikely that people in general will take same time for congruent and incongruent words."
   ]
  },
  {
   "cell_type": "code",
   "execution_count": 144,
   "metadata": {},
   "outputs": [
    {
     "name": "stdout",
     "output_type": "stream",
     "text": [
      "Congruent: \n",
      "[12.079,\n",
      " 16.791,\n",
      " 9.564,\n",
      " 8.63,\n",
      " 14.669,\n",
      " 12.238,\n",
      " 14.692,\n",
      " 8.987,\n",
      " 9.401,\n",
      " 14.48,\n",
      " 22.328,\n",
      " 15.298,\n",
      " 15.073,\n",
      " 16.929,\n",
      " 18.2,\n",
      " 12.13,\n",
      " 18.495,\n",
      " 10.639,\n",
      " 11.344,\n",
      " 12.369,\n",
      " 12.944,\n",
      " 14.233,\n",
      " 19.71,\n",
      " 16.004]\n",
      "Incongruent: \n",
      "[19.278,\n",
      " 18.741,\n",
      " 21.214,\n",
      " 15.687,\n",
      " 22.803,\n",
      " 20.878,\n",
      " 24.572,\n",
      " 17.394,\n",
      " 20.762,\n",
      " 26.282,\n",
      " 24.524,\n",
      " 18.644,\n",
      " 17.51,\n",
      " 20.33,\n",
      " 35.255,\n",
      " 22.158,\n",
      " 25.139,\n",
      " 20.429,\n",
      " 17.425,\n",
      " 34.288,\n",
      " 23.894,\n",
      " 17.96,\n",
      " 22.058,\n",
      " 21.157]\n",
      "Difference: \n",
      "[-7.198999999999998,\n",
      " -1.9499999999999993,\n",
      " -11.649999999999999,\n",
      " -7.056999999999999,\n",
      " -8.134,\n",
      " -8.64,\n",
      " -9.879999999999999,\n",
      " -8.406999999999998,\n",
      " -11.361,\n",
      " -11.802,\n",
      " -2.1960000000000015,\n",
      " -3.3459999999999983,\n",
      " -2.437000000000001,\n",
      " -3.401,\n",
      " -17.055000000000003,\n",
      " -10.028,\n",
      " -6.643999999999998,\n",
      " -9.79,\n",
      " -6.081000000000001,\n",
      " -21.918999999999997,\n",
      " -10.949999999999998,\n",
      " -3.7270000000000003,\n",
      " -2.347999999999999,\n",
      " -5.152999999999999]\n"
     ]
    }
   ],
   "source": [
    "import csv\n",
    "from pprint import pprint\n",
    "import math\n",
    "\n",
    "stat = {'Congruent': { 'data': [] }, 'Incongruent': { 'data': [] }, 'Difference': { 'data': [] }}\n",
    "\n",
    "with open('./stroopdata.csv', 'r') as st_data:\n",
    "    reader = csv.DictReader(st_data)    \n",
    "    for row in reader:\n",
    "        cong = float(row['Congruent'])\n",
    "        incong = float(row['Incongruent'])\n",
    "        diff = cong-incong\n",
    "        \n",
    "        stat['Congruent']['data'].append(cong)\n",
    "        stat['Incongruent']['data'].append(incong)\n",
    "        stat['Difference']['data'].append(diff)\n",
    "\n",
    "for k in stat:\n",
    "    print(k + \": \")\n",
    "    pprint(stat[k]['data'])"
   ]
  },
  {
   "cell_type": "markdown",
   "metadata": {},
   "source": [
    "**Question 3**: Report some descriptive statistics regarding this dataset. Include at least one measure of central tendency and at least one measure of variability."
   ]
  },
  {
   "cell_type": "markdown",
   "metadata": {},
   "source": [
    "**Answer**: Some descriptive statistics from the sample data is as follows:\n",
    "\n",
    "|Data        |   Mean        | Median     | Variance      | Standard Deviation |\n",
    "|:----------:|:-------------:|:----------:|:-------------:|:------------------:|\n",
    "|Congruent   | 14.051        | 14.3565    |   12.669      |   3.559            |\n",
    "|Incongruent | 22.016        | 21.0175    | 23.012        |   4.797            |\n",
    "| Difference | -7.965        | -7.666     | 23.667        |   4.865            |"
   ]
  },
  {
   "cell_type": "code",
   "execution_count": 145,
   "metadata": {},
   "outputs": [],
   "source": [
    "def variance(data):\n",
    "    \"\"\"\n",
    "        This function returns variance of given sample data.\n",
    "    \"\"\"\n",
    "    \n",
    "    mean = sum(data)/len(data)\n",
    "    squared_diff = 0\n",
    "    \n",
    "    for d in data:\n",
    "        squared_diff += pow((d - mean), 2)\n",
    "    \n",
    "    return squared_diff/(len(data) - 1)\n",
    "        \n",
    "    "
   ]
  },
  {
   "cell_type": "code",
   "execution_count": 146,
   "metadata": {},
   "outputs": [
    {
     "name": "stdout",
     "output_type": "stream",
     "text": [
      "\n",
      "Congruent: \n",
      "Mean:  14.051124999999997\n",
      "Median:  14.3565\n",
      "Variance:  12.669029070652174\n",
      "Standard Deviation:  3.559357957645195\n",
      "\n",
      "Incongruent: \n",
      "Mean:  22.01591666666667\n",
      "Median:  21.0175\n",
      "Variance:  23.011757036231884\n",
      "Standard Deviation:  4.797057122469138\n",
      "\n",
      "Difference: \n",
      "Mean:  -7.964791666666667\n",
      "Median:  -7.666499999999999\n",
      "Variance:  23.66654086775362\n",
      "Standard Deviation:  4.864826910359054\n"
     ]
    }
   ],
   "source": [
    "\n",
    "for k in stat:\n",
    "    list_data = sorted(stat[k]['data'])\n",
    "    count = len(list_data)\n",
    "    mean = sum(list_data)/count\n",
    "    median = list_data[int(count/2)]\n",
    "    var = variance(list_data)\n",
    "    std = math.sqrt(var)\n",
    "\n",
    "    if count%2 == 0:\n",
    "        median = (list_data[int(count/2)] + list_data[int(count/2 - 1) ])/2\n",
    "        \n",
    "    stat[k]['mean'] = mean\n",
    "    stat[k]['median'] = median\n",
    "    stat[k]['variance'] = var\n",
    "    stat[k]['std'] = std\n",
    "    \n",
    "    print('\\n' + k + ': ')\n",
    "    print('Mean: ', mean)\n",
    "    print('Median: ', median)\n",
    "    print('Variance: ', var)\n",
    "    print('Standard Deviation: ', std)\n",
    "        "
   ]
  },
  {
   "cell_type": "markdown",
   "metadata": {},
   "source": [
    "**Question 4**: Provide one or two visualizations that show the distribution of the sample data. Write one or two sentences noting what you observe about the plot or plots."
   ]
  },
  {
   "cell_type": "markdown",
   "metadata": {},
   "source": [
    "**Answer**: Data is visualized below:\n",
    "\n",
    "**Observations**:\n",
    "\n",
    "- Distribution of diference looks like negatively skewed.\n",
    "- The mode of difference is around -4 to -2.\n",
    "- The mode of Congruent data is around 14 to 16.\n",
    "- The mode od Incongruent data is around 20 to 22.\n"
   ]
  },
  {
   "cell_type": "code",
   "execution_count": 153,
   "metadata": {},
   "outputs": [
    {
     "data": {
      "image/png": "[encoded data removed]",
      "text/plain": [
       "<matplotlib.figure.Figure at 0x1f8b2b5cdd8>"
      ]
     },
     "metadata": {},
     "output_type": "display_data"
    }
   ],
   "source": [
    "import matplotlib.pyplot as plt\n",
    "\n",
    "fig, ax = plt.subplots()\n",
    "\n",
    "colors = {'Congruent': 'red', 'Incongruent': 'green', 'Difference':'blue'}\n",
    "\n",
    "for k in stat:\n",
    "    ax.hist(stat[k]['data'], color = colors[k], label=k, rwidth = 0.9)\n",
    "\n",
    "legend = ax.legend(loc='upper left')\n",
    "plt.title('Distribution of Time')\n",
    "plt.xlabel('Time Taken')\n",
    "plt.show()\n"
   ]
  },
  {
   "cell_type": "markdown",
   "metadata": {},
   "source": [
    "**Question 5**: Now, perform the statistical test and report your results. What is your confidence level and your critical statistic value? Do you reject the null hypothesis or fail to reject it? Come to a conclusion in terms of the experiment task. Did the results match up with your expectations?"
   ]
  },
  {
   "cell_type": "markdown",
   "metadata": {},
   "source": [
    "**Answer**: \n",
    "\n",
    "- The `t` value after `t test` is `-8.021` which has a probablity of less than `0.0001`.\n",
    "- Confidence Level is between `-9.667` and `-6.263` at $\\alpha = 0.10$\n",
    "- The value for t which is `-8.021` is statistically significant hence we reject the test.\n",
    "- It's highly unlikely that average time taken for congruent and incongruent words would be same.\n",
    "- Result seems as expected because time taken is significantly different."
   ]
  },
  {
   "cell_type": "code",
   "execution_count": 156,
   "metadata": {},
   "outputs": [
    {
     "name": "stdout",
     "output_type": "stream",
     "text": [
      "0.9930286347783402\n",
      "-8.020706944109966\n"
     ]
    }
   ],
   "source": [
    "list_d = stat['Difference']['data']\n",
    "se = stat['Difference']['std']/math.sqrt(len(list_d))\n",
    "\n",
    "t = (stat['Congruent']['mean'] - stat['Incongruent']['mean'])/se\n",
    "\n",
    "print(se)\n",
    "print(t)"
   ]
  },
  {
   "cell_type": "markdown",
   "metadata": {},
   "source": [
    "**Question 6**: Optional: What do you think is responsible for the effects observed? Can you think of an alternative or similar task that would result in a similar effect? Some research about the problem will be helpful for thinking about these two questions!"
   ]
  },
  {
   "cell_type": "markdown",
   "metadata": {},
   "source": [
    "**Answer**:\n",
    "\n",
    "- I think this is human mind. We tend to remember word having same color as name more intutively compared to having different color.\n",
    "- A simliar task would be:\n",
    "    - Congruent: picture of an animal and name of animal written over it.\n",
    "    - Incongruent: Picture of an animal and a different animal's name written over it.\n",
    "- I beleive in case of incongruent words, time would be much more than in congruent words."
   ]
  },
  {
   "cell_type": "markdown",
   "metadata": {},
   "source": [
    "Resources Used:\n",
    "\n",
    "- [Matplotlib](https://matplotlib.org/api/_as_gen/matplotlib.pyplot.legend.html)\n",
    "- [Python Doc](https://docs.python.org/3/library/index.html)\n",
    "- [GraphPad](https://www.graphpad.com/quickcalcs/distMenu/)\n",
    "- [PennState](https://onlinecourses.science.psu.edu/stat414/node/18)\n",
    "- Previous Project (Bikeshare Analysis)"
   ]
  }
 ],
 "metadata": {
  "kernelspec": {
   "display_name": "Python 3",
   "language": "python",
   "name": "python3"
  },
  "language_info": {
   "codemirror_mode": {
    "name": "ipython",
    "version": 3
   },
   "file_extension": ".py",
   "mimetype": "text/x-python",
   "name": "python",
   "nbconvert_exporter": "python",
   "pygments_lexer": "ipython3",
   "version": "3.6.4"
  }
 },
 "nbformat": 4,
 "nbformat_minor": 2
}
